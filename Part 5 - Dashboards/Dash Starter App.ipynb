{
 "cells": [
  {
   "cell_type": "markdown",
   "metadata": {
    "slideshow": {
     "slide_type": "slide"
    }
   },
   "source": [
    "# Dash\n",
    "\n",
    "https://dash.plot.ly/getting-started\n",
    "\n",
    "Dash is a Python framework for building web apps. It's made by Plotly, so no surprise that it works well for building Dashboards-like apps with analytics and visualization at their core.\n",
    "\n",
    "With Dash we can make *real* full-service apps for users to do their own exploration and analysis. Here's a good one: https://dash-gallery.plotly.host/dash-yield-curve/"
   ]
  },
  {
   "cell_type": "markdown",
   "metadata": {
    "slideshow": {
     "slide_type": "skip"
    }
   },
   "source": [
    "### Same old data"
   ]
  },
  {
   "cell_type": "code",
   "execution_count": 14,
   "metadata": {
    "slideshow": {
     "slide_type": "skip"
    }
   },
   "outputs": [],
   "source": [
    "import pandas as pd\n",
    "temperatures = pd.read_csv(\"../data/global_temperatures/GlobalLandTemperaturesByCountry.csv\", parse_dates=['dt'])\n",
    "continents = pd.read_csv(\"../data/continents.csv\")\n",
    "countries = pd.read_csv(\"../data/countries.csv\")\n",
    "countries.drop(columns=['code'])\n",
    "temperatures = temperatures.merge(continents).merge(countries, left_on=\"Country\", right_on=\"country\")\n",
    "\n",
    "temperatures['year'] = temperatures.dt.dt.year\n",
    "\n",
    "yearly_change = temperatures[(temperatures.year==1963) | (temperatures.year==2013)].groupby([\"Country\",\"year\"], as_index=False).AverageTemperature.mean()\n",
    "yearly_change['AverageTemperatureChange'] = yearly_change.groupby([\"Country\"], as_index=False).AverageTemperature.transform(\"diff\")\n",
    "yearly_change.dropna(inplace=True)\n",
    "temperature_slice=yearly_change.merge(temperatures[[\"Country\",\"Continent\",\"Code\",\"lon\",\"lat\"]].drop_duplicates())"
   ]
  },
  {
   "cell_type": "markdown",
   "metadata": {
    "slideshow": {
     "slide_type": "slide"
    }
   },
   "source": [
    "# The Layout\n",
    "\n",
    "The layout is the *wireframe* or the *structure* that the app is built on. It is at its core `HTML`, the language of the (backbone of the?) web. HTML elements you may be familiar with are accessible through Python objects. This may seem strange at first, but it makes it so that we can build all of this in one place and one context."
   ]
  },
  {
   "cell_type": "markdown",
   "metadata": {
    "slideshow": {
     "slide_type": "subslide"
    }
   },
   "source": [
    "### dash_html_components\n",
    "\n",
    "The dash_html_components library has a component for every HTML tag. The `html.H1(children='Hello Dash')` component generates a `<h1>Hello Dash</h1>` HTML element in your application.\n",
    "\n",
    "### dash_core_components\n",
    "\n",
    "Not all components are pure HTML. The `dash_core_components` describe higher-level components that are interactive and are generated with JavaScript, HTML, and CSS through the React.js library."
   ]
  },
  {
   "cell_type": "code",
   "execution_count": 4,
   "metadata": {
    "slideshow": {
     "slide_type": "skip"
    }
   },
   "outputs": [],
   "source": [
    "from werkzeug.serving import run_simple as _run_simple\n",
    "def debug(app, port=8000, host=\"0.0.0.0\"):\n",
    "    \"\"\"\n",
    "    Run a dash app with dash dev tools from within Jupyter Notebooks\n",
    "    \"\"\"\n",
    "    if type(app) == dash.dash.Dash:\n",
    "        # right, this is a Dash app?\n",
    "        app.enable_dev_tools()\n",
    "        app = app.server\n",
    "    _run_simple(host, port, app)\n"
   ]
  },
  {
   "cell_type": "code",
   "execution_count": 8,
   "metadata": {
    "slideshow": {
     "slide_type": "subslide"
    }
   },
   "outputs": [],
   "source": [
    "import dash\n",
    "import dash_core_components as dcc\n",
    "import dash_html_components as html\n",
    "\n",
    "external_stylesheets = ['https://codepen.io/chriddyp/pen/bWLwgP.css']\n",
    "\n",
    "app = dash.Dash(__name__, external_stylesheets=external_stylesheets)\n",
    "\n",
    "app.layout = html.Div(children=[\n",
    "    html.H1(children='Hello Dash'),\n",
    "\n",
    "    html.Div(children='''\n",
    "        Dash: A web application framework for Python.\n",
    "    '''),\n",
    "\n",
    "    dcc.Graph(\n",
    "        id='example-graph',\n",
    "        figure={\n",
    "            'data': [\n",
    "                {'x': [1, 2, 3], 'y': [4, 1, 2], 'type': 'bar', 'name': 'SF'},\n",
    "                {'x': [1, 2, 3], 'y': [2, 4, 5], 'type': 'bar', 'name': u'Montréal'},\n",
    "            ],\n",
    "            'layout': {\n",
    "                'title': 'Dash Data Visualization'\n",
    "            }\n",
    "        }\n",
    "    )\n",
    "])\n",
    "\n",
    "debug(app)"
   ]
  },
  {
   "cell_type": "markdown",
   "metadata": {
    "slideshow": {
     "slide_type": "subslide"
    }
   },
   "source": [
    "# EXERCISE\n",
    "\n",
    "- Replace the figure one that we like"
   ]
  },
  {
   "cell_type": "code",
   "execution_count": 23,
   "metadata": {
    "slideshow": {
     "slide_type": "-"
    }
   },
   "outputs": [],
   "source": [
    "import plotly.express as px\n",
    "\n",
    "figure = px.scatter(\n",
    "    temperature_slice,\n",
    "    x=\"AverageTemperature\",\n",
    "    y=\"AverageTemperatureChange\",\n",
    "    color=\"Continent\",\n",
    "    marginal_y=\"violin\",\n",
    "    marginal_x=\"histogram\",\n",
    "    hover_data=[\"Country\"]\n",
    ")\n",
    "\n",
    "app.layout = html.Div(children=[\n",
    "    html.H1(children='Hello Dash'),\n",
    "\n",
    "    html.Div(children='''\n",
    "        Dash: A web application framework for Python.\n",
    "    '''),\n",
    "\n",
    "    dcc.Graph(\n",
    "        id='example-graph',\n",
    "        figure=figure\n",
    "    )\n",
    "])\n",
    "\n",
    "debug(app)"
   ]
  },
  {
   "cell_type": "code",
   "execution_count": null,
   "metadata": {},
   "outputs": [],
   "source": [
    "# Your Solution"
   ]
  },
  {
   "cell_type": "markdown",
   "metadata": {},
   "source": [
    "# Callbacks\n",
    "\n",
    "This is a term taken primarily from JavaScript, which is the *real* language of the web. "
   ]
  },
  {
   "cell_type": "markdown",
   "metadata": {},
   "source": [
    "## EXERCISE\n",
    "\n",
    "- Add a dropdown menu to choose the viz type\n",
    "- Tie it to a callback to refresh the plot"
   ]
  },
  {
   "cell_type": "markdown",
   "metadata": {},
   "source": [
    "# Click Events"
   ]
  },
  {
   "cell_type": "markdown",
   "metadata": {},
   "source": [
    "## EXERCISE\n",
    "\n",
    "- Capture click event on plot and pull up the related Countries full history"
   ]
  },
  {
   "cell_type": "code",
   "execution_count": null,
   "metadata": {},
   "outputs": [],
   "source": []
  }
 ],
 "metadata": {
  "celltoolbar": "Slideshow",
  "kernelspec": {
   "display_name": "Python 3",
   "language": "python",
   "name": "python3"
  },
  "language_info": {
   "codemirror_mode": {
    "name": "ipython",
    "version": 3
   },
   "file_extension": ".py",
   "mimetype": "text/x-python",
   "name": "python",
   "nbconvert_exporter": "python",
   "pygments_lexer": "ipython3",
   "version": "3.7.1"
  }
 },
 "nbformat": 4,
 "nbformat_minor": 2
}
