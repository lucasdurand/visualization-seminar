{
 "cells": [
  {
   "cell_type": "markdown",
   "metadata": {
    "slideshow": {
     "slide_type": "slide"
    }
   },
   "source": [
    "# Dash\n",
    "\n",
    "https://dash.plot.ly/getting-started\n",
    "\n",
    "Dash is a Python framework for building web apps. It's made by Plotly, so no surprise that it works well for building Dashboards-like apps with analytics and visualization at their core.\n",
    "\n",
    "With Dash we can make *real* full-service apps for users to do their own exploration and analysis. Here's a good one: https://dash-gallery.plotly.host/dash-yield-curve/"
   ]
  },
  {
   "cell_type": "markdown",
   "metadata": {
    "slideshow": {
     "slide_type": "skip"
    }
   },
   "source": [
    "### Same old data"
   ]
  },
  {
   "cell_type": "code",
   "execution_count": 18,
   "metadata": {
    "slideshow": {
     "slide_type": "skip"
    }
   },
   "outputs": [],
   "source": [
    "import pandas as pd\n",
    "DATA_FOLDER = \"../../data\"\n",
    "temperatures = pd.read_csv(f\"{DATA_FOLDER}/global_temperatures/GlobalLandTemperaturesByCountry.csv\", parse_dates=['dt'])\n",
    "continents = pd.read_csv(f\"{DATA_FOLDER}/continents.csv\")\n",
    "countries = pd.read_csv(f\"{DATA_FOLDER}/countries.csv\")\n",
    "countries.drop(columns=['code'])\n",
    "temperatures = temperatures.merge(continents).merge(countries, left_on=\"Country\", right_on=\"country\")\n",
    "\n",
    "temperatures['year'] = temperatures.dt.dt.year\n",
    "temperatures['month'] = temperatures.dt.dt.month\n",
    "\n",
    "yearly_change = temperatures[(temperatures.year==1963) | (temperatures.year==2013)].groupby([\"Country\",\"year\"], as_index=False).AverageTemperature.mean()\n",
    "yearly_change['AverageTemperatureChange'] = yearly_change.groupby([\"Country\"], as_index=False).AverageTemperature.transform(\"diff\")\n",
    "yearly_change.dropna(inplace=True)\n",
    "temperature_slice=yearly_change.merge(temperatures[[\"Country\",\"Continent\",\"Code\",\"lon\",\"lat\"]].drop_duplicates())"
   ]
  },
  {
   "cell_type": "markdown",
   "metadata": {
    "slideshow": {
     "slide_type": "slide"
    }
   },
   "source": [
    "# The Layout\n",
    "\n",
    "The layout is the *wireframe* or the *structure* that the app is built on. It is at its core `HTML`, the language of the (backbone of the?) web. HTML elements you may be familiar with are accessible through Python objects. This may seem strange at first, but it makes it so that we can build all of this in one place and one context."
   ]
  },
  {
   "cell_type": "markdown",
   "metadata": {
    "slideshow": {
     "slide_type": "subslide"
    }
   },
   "source": [
    "# Who how websites work?\n",
    "\n",
    "Let's use Chrome Dev Tools to look at how these pieces come together.\n",
    "\n",
    "- HTML\n",
    "- CSS\n",
    "- JS (let's do a jQuery example)"
   ]
  },
  {
   "cell_type": "markdown",
   "metadata": {
    "slideshow": {
     "slide_type": "subslide"
    }
   },
   "source": [
    "### dash_html_components\n",
    "\n",
    "The dash_html_components library has a component for every HTML tag. The `html.H1(children='Hello Dash')` component generates a `<h1>Hello Dash</h1>` HTML element in your application.\n",
    "\n",
    "### dash_core_components\n",
    "\n",
    "Not all components are pure HTML. The `dash_core_components` describe higher-level components that are interactive and are generated with JavaScript, HTML, and CSS through the React.js library."
   ]
  },
  {
   "cell_type": "code",
   "execution_count": 2,
   "metadata": {
    "slideshow": {
     "slide_type": "skip"
    }
   },
   "outputs": [],
   "source": [
    "from werkzeug.serving import run_simple as _run_simple\n",
    "def debug(app, port=8000, host=\"0.0.0.0\"): \n",
    "    \"\"\"\n",
    "    Run a dash app with dash dev tools from within Jupyter Notebooks. \n",
    "    \n",
    "    This behaves the same as running `app.run_server(debug=True)` from ipython directly\n",
    "    \"\"\"\n",
    "    if type(app) == dash.dash.Dash:\n",
    "        # right, this is a Dash app?\n",
    "        app.enable_dev_tools()\n",
    "        app = app.server\n",
    "    _run_simple(host, port, app)\n"
   ]
  },
  {
   "cell_type": "code",
   "execution_count": 3,
   "metadata": {
    "slideshow": {
     "slide_type": "subslide"
    }
   },
   "outputs": [],
   "source": [
    "import dash\n",
    "import dash_core_components as dcc\n",
    "import dash_html_components as html\n",
    "\n",
    "external_stylesheets = ['https://codepen.io/chriddyp/pen/bWLwgP.css']\n",
    "\n",
    "app = dash.Dash(__name__, external_stylesheets=external_stylesheets)\n",
    "\n",
    "app.layout = html.Div(children=[\n",
    "    html.H1(children='Hello Dash'),\n",
    "\n",
    "    html.Div(children='''\n",
    "        Dash: A web application framework for Python.\n",
    "    '''),\n",
    "\n",
    "    dcc.Graph(\n",
    "        id='example-graph',\n",
    "        figure={\n",
    "            'data': [\n",
    "                {'x': [1, 2, 3], 'y': [4, 1, 2], 'type': 'bar', 'name': 'SF'},\n",
    "                {'x': [1, 2, 3], 'y': [2, 4, 5], 'type': 'bar', 'name': u'Montréal'},\n",
    "            ],\n",
    "            'layout': {\n",
    "                'title': 'Dash Data Visualization'\n",
    "            }\n",
    "        }\n",
    "    )\n",
    "])"
   ]
  },
  {
   "cell_type": "code",
   "execution_count": 4,
   "metadata": {
    "slideshow": {
     "slide_type": "-"
    }
   },
   "outputs": [],
   "source": [
    "debug(app)"
   ]
  },
  {
   "cell_type": "markdown",
   "metadata": {
    "slideshow": {
     "slide_type": "subslide"
    },
    "solution2": "hidden",
    "solution2_first": true
   },
   "source": [
    "# EXERCISE\n",
    "\n",
    "- Replace the figure with one that we like\n",
    "- Add a Dropdown menu populated with marginal plot types: \"violin\",\"rug\",\"box\",\"histogram\""
   ]
  },
  {
   "cell_type": "code",
   "execution_count": 5,
   "metadata": {
    "slideshow": {
     "slide_type": "-"
    },
    "solution2": "hidden"
   },
   "outputs": [],
   "source": [
    "import plotly.express as px\n",
    "\n",
    "def make_central_figure(marginal_x=\"violin\", marginal_y=\"histogram\"):\n",
    "    figure = px.scatter(\n",
    "        temperature_slice,\n",
    "        x=\"AverageTemperature\",\n",
    "        y=\"AverageTemperatureChange\",\n",
    "        color=\"Continent\",\n",
    "        marginal_y=marginal_y,\n",
    "        marginal_x=marginal_x,\n",
    "        hover_data=[\"Country\"]\n",
    "    )\n",
    "    return figure\n",
    "    \n",
    "def labels_and_values(values):\n",
    "    return [{'label':val, 'value':val} for val in values]\n",
    "\n",
    "app.layout = html.Div(children=[\n",
    "    html.H1(children='Hello Dash'),\n",
    "\n",
    "    html.Div(children='''\n",
    "        Dash: A web application framework for Python.\n",
    "    '''),\n",
    "\n",
    "    dcc.Graph(\n",
    "        id='example-graph',\n",
    "        figure=make_central_figure()\n",
    "    ),\n",
    "    \n",
    "    dcc.Dropdown(\n",
    "        id='marginal-x-dropdown',\n",
    "        options=labels_and_values([\"rug\",\"histogram\",\"violin\"])\n",
    "    )\n",
    "])"
   ]
  },
  {
   "cell_type": "code",
   "execution_count": 6,
   "metadata": {
    "slideshow": {
     "slide_type": "-"
    },
    "solution2": "hidden"
   },
   "outputs": [],
   "source": [
    "debug(app)"
   ]
  },
  {
   "cell_type": "code",
   "execution_count": null,
   "metadata": {
    "slideshow": {
     "slide_type": "skip"
    }
   },
   "outputs": [],
   "source": [
    "# Your Solution"
   ]
  },
  {
   "cell_type": "markdown",
   "metadata": {
    "slideshow": {
     "slide_type": "slide"
    }
   },
   "source": [
    "# Callbacks\n",
    "\n",
    "https://dash.plot.ly/getting-started-part-2\n",
    "\n",
    "This is a term taken primarily from JavaScript, which is the *real* language of the web. Callbacks are triggered when an element or value changes\n",
    "\n",
    "In `Dash`, we define callbacks using a *function decorator*, `@app.callback()`. This is provided with the `inputs` to watch (e.g. `dash.dependencies.Input(component_id=\"marginal-x-dropdown\", component_property=\"value\")`) and the `outputs` that are updated by the function (`dash.dependencies.Output(component_id=\"example-graph\",component_property=\"figure\")`). To decorate the function we write:\n",
    "\n",
    "```python\n",
    "@app.callback(...)\n",
    "def my_function(input1, input2):\n",
    "    # determined outputs ...\n",
    "    return [output1, outpu2]\n",
    "```"
   ]
  },
  {
   "cell_type": "markdown",
   "metadata": {
    "slideshow": {
     "slide_type": "subslide"
    },
    "solution2": "hidden",
    "solution2_first": true
   },
   "source": [
    "## EXERCISE\n",
    "\n",
    "- Tie the `value` of the dropdown menu to the `marginal_x` plot drawn\n",
    "\n",
    "**NOTE:** you need to re-initialize the dash app (`dash.Dash()`) in order to change a callback once it is registered"
   ]
  },
  {
   "cell_type": "code",
   "execution_count": 7,
   "metadata": {
    "slideshow": {
     "slide_type": "-"
    },
    "solution2": "hidden"
   },
   "outputs": [],
   "source": [
    "# Solution\n",
    "\n",
    "from dash.dependencies import Input, Output\n",
    "\n",
    "@app.callback(\n",
    "    output=[Output(component_id=\"example-graph\",component_property=\"figure\")],\n",
    "    inputs=[Input(component_id=\"marginal-x-dropdown\", component_property=\"value\")]    \n",
    ")\n",
    "def redraw_figure_with_marginal(marginal_x):\n",
    "    figure = make_central_figure(marginal_x=marginal_x)\n",
    "    return [figure]\n",
    "debug(app)"
   ]
  },
  {
   "cell_type": "code",
   "execution_count": null,
   "metadata": {
    "slideshow": {
     "slide_type": "skip"
    }
   },
   "outputs": [],
   "source": [
    "# Your Solution"
   ]
  },
  {
   "cell_type": "markdown",
   "metadata": {
    "slideshow": {
     "slide_type": "slide"
    }
   },
   "source": [
    "# Click Events\n",
    "\n",
    "To make a truly immersive dashboard, we will want to allow users to explore individual data points. This is best done by capturing and handling click events."
   ]
  },
  {
   "cell_type": "markdown",
   "metadata": {
    "slideshow": {
     "slide_type": "subslide"
    },
    "solution2": "hidden",
    "solution2_first": true
   },
   "source": [
    "## EXERCISE\n",
    "\n",
    "*We want to use the Continent/Country of the click in order to update a second plot with historical data\n",
    "\n",
    "- Add a new `html.Div()` element to the page with the `id=\"output\"`. We will use this to print output\n",
    "- Capture the `clickData` from our main plot and assign it as the `children` value to `output`\n",
    "- Use this to understand the datastructure of click events"
   ]
  },
  {
   "cell_type": "code",
   "execution_count": 76,
   "metadata": {
    "slideshow": {
     "slide_type": "-"
    },
    "solution2": "hidden"
   },
   "outputs": [],
   "source": [
    "# Solution\n",
    "\n",
    "app = dash.Dash(__name__, external_stylesheets=external_stylesheets)\n",
    "\n",
    "app.layout = html.Div(children=[\n",
    "    html.H1(children='Hello Dash'),\n",
    "\n",
    "    html.Div(children='''\n",
    "        Dash: A web application framework for Python.\n",
    "    '''),\n",
    "\n",
    "    dcc.Graph(\n",
    "        id='example-graph',\n",
    "        figure=make_central_figure()\n",
    "    ),\n",
    "    \n",
    "    html.Div(\n",
    "        id=\"output\",\n",
    "        children=\"\"\n",
    "    )\n",
    "])\n",
    "\n",
    "@app.callback(\n",
    "    output=[Output(component_id=\"output\",component_property=\"children\")],\n",
    "    inputs=[Input(component_id=\"example-graph\", component_property=\"clickData\")]    \n",
    ")\n",
    "def printClickdata(clickData):\n",
    "    return [str(clickData)]"
   ]
  },
  {
   "cell_type": "code",
   "execution_count": null,
   "metadata": {
    "slideshow": {
     "slide_type": "skip"
    }
   },
   "outputs": [],
   "source": [
    "# Your Solution\n",
    "app = dash.Dash(__name__, external_stylesheets=external_stylesheets)\n",
    "\n",
    "app.layout = html.Div(children=[\n",
    "    html.H1(children='Hello Dash'),\n",
    "\n",
    "    html.Div(children='''\n",
    "        Dash: A web application framework for Python.\n",
    "    '''),\n",
    "\n",
    "    dcc.Graph(\n",
    "        id='example-graph',\n",
    "        figure=make_central_figure()\n",
    "    ),\n",
    "    \n",
    "    html.Div(\n",
    "        # initialize here\n",
    "    )\n",
    "])\n",
    "\n",
    "@app.callback(\n",
    "    output=[Output(...)],\n",
    "    inputs=[Input(...)]    \n",
    ")\n",
    "def print_clickData(clickData):\n",
    "    return [str(clickData)]\n",
    "\n",
    "debug(app)"
   ]
  },
  {
   "cell_type": "markdown",
   "metadata": {
    "slideshow": {
     "slide_type": "subslide"
    },
    "solution2": "hidden",
    "solution2_first": true
   },
   "source": [
    "## EXERCISE\n",
    "\n",
    "- Build a function to return the average temperature per year for a single country\n",
    "- Add a second plot beneath the scatter plot with historical data for a single country (this will come from the `temperatures` dataframe)\n",
    "- Bind this to the `clickData` from the main plot"
   ]
  },
  {
   "cell_type": "code",
   "execution_count": 8,
   "metadata": {
    "slideshow": {
     "slide_type": "-"
    },
    "solution2": "hidden"
   },
   "outputs": [],
   "source": [
    "# Solution\n",
    "app = dash.Dash(__name__, external_stylesheets=external_stylesheets)\n",
    "\n",
    "def country_plot(countries=[]):\n",
    "    df = temperatures[temperatures.Country.isin(countries)]\n",
    "    return px.line(df.groupby([\"Country\",\"year\"], as_index=False).mean(), x=\"year\", y=\"AverageTemperature\", error_y=\"AverageTemperatureUncertainty\", color=\"Country\")\n",
    "\n",
    "app.layout = html.Div(children=[\n",
    "    html.H1(children='Hello Dash'),\n",
    "\n",
    "    html.Div(children='''\n",
    "        Dash: A web application framework for Python.\n",
    "    '''),\n",
    "\n",
    "    dcc.Graph(\n",
    "        id='example-graph',\n",
    "        figure=make_central_figure()\n",
    "    ),\n",
    "    \n",
    "    dcc.Graph(\n",
    "        id='country-graph',\n",
    "        figure=country_plot()\n",
    "    )\n",
    "])\n",
    "\n",
    "@app.callback(\n",
    "    output=[Output(component_id=\"country-graph\",component_property=\"figure\")],\n",
    "    inputs=[Input(component_id=\"example-graph\", component_property=\"clickData\")]\n",
    ")\n",
    "def draw_country_history(clickData):\n",
    "    if clickData:\n",
    "        points = clickData['points']\n",
    "        countries = [point['customdata'][0] for point in points]\n",
    "        figure = country_plot(countries)\n",
    "        return [figure]"
   ]
  },
  {
   "cell_type": "code",
   "execution_count": null,
   "metadata": {
    "slideshow": {
     "slide_type": "skip"
    }
   },
   "outputs": [],
   "source": [
    "# Your Solution\n",
    "app = dash.Dash(__name__, external_stylesheets=external_stylesheets)\n",
    "\n",
    "def country_plot(countries=[]):\n",
    "    df = None #\n",
    "    figure = px.line(df)\n",
    "    return figure\n",
    "\n",
    "app.layout = html.Div(children=[\n",
    "    html.H1(children='Hello Dash'),\n",
    "\n",
    "    html.Div(children='''\n",
    "        Dash: A web application framework for Python.\n",
    "    '''),\n",
    "\n",
    "    dcc.Graph(\n",
    "        id='example-graph',\n",
    "        figure=make_central_figure()\n",
    "    ),\n",
    "    \n",
    "    dcc.Graph(\n",
    "        id='country-graph',\n",
    "        figure=country_plot()\n",
    "    )\n",
    "])\n",
    "\n",
    "@app.callback(\n",
    "    output=[Output(component_id=\"country-graph\",component_property=\"figure\")],\n",
    "    inputs=[Input(component_id=\"example-graph\", component_property=\"clickData\")]\n",
    ")\n",
    "def draw_country_history(clickData):\n",
    "    if clickData:\n",
    "        points = # ...\n",
    "        countries = # ...\n",
    "        figure = country_plot(countries)\n",
    "        return [figure]\n",
    "debug(app)"
   ]
  },
  {
   "cell_type": "markdown",
   "metadata": {
    "slideshow": {
     "slide_type": "subslide"
    },
    "solution2": "hidden",
    "solution2_first": true
   },
   "source": [
    "## EXERCISE\n",
    "\n",
    "- Update the `clickData` callback to also support `selectedData`, which can be selected by using the *Box* or *Lasso* tool"
   ]
  },
  {
   "cell_type": "code",
   "execution_count": 25,
   "metadata": {
    "slideshow": {
     "slide_type": "-"
    },
    "solution2": "hidden"
   },
   "outputs": [],
   "source": [
    "# Solution\n",
    "app = dash.Dash(__name__, external_stylesheets=external_stylesheets)\n",
    "\n",
    "def country_plot(countries=[]):\n",
    "    df = temperatures[temperatures.Country.isin(countries)]\n",
    "    return px.line(df.groupby([\"Country\",\"year\"], as_index=False).mean(), x=\"year\", y=\"AverageTemperature\", error_y=\"AverageTemperatureUncertainty\", color=\"Country\")\n",
    "\n",
    "app.layout = html.Div(children=[\n",
    "    html.H1(children='Hello Dash'),\n",
    "\n",
    "    html.Div(children='''\n",
    "        Dash: A web application framework for Python.\n",
    "    '''),\n",
    "\n",
    "    dcc.Graph(\n",
    "        id='example-graph',\n",
    "        figure=make_central_figure()\n",
    "    ),\n",
    "    \n",
    "    dcc.Graph(\n",
    "        id='country-graph',\n",
    "        figure=country_plot()\n",
    "    )\n",
    "])\n",
    "\n",
    "@app.callback(\n",
    "    output=[Output(component_id=\"country-graph\",component_property=\"figure\")],\n",
    "    inputs=[\n",
    "        Input(component_id=\"example-graph\", component_property=\"clickData\"),\n",
    "        Input(component_id=\"example-graph\", component_property=\"selectedData\")\n",
    "    ]\n",
    ")\n",
    "def draw_country_history(clickData, selectedData):\n",
    "    selected = selectedData.get('points',[]) if selectedData else []\n",
    "    clicked = clickData.get(\"points\",[]) if clickData else []\n",
    "    points = selected + clicked\n",
    "    countries = [point['customdata'][0] for point in points]\n",
    "    figure = country_plot(countries)\n",
    "    return [figure]\n",
    "debug(app)"
   ]
  },
  {
   "cell_type": "code",
   "execution_count": null,
   "metadata": {
    "slideshow": {
     "slide_type": "skip"
    }
   },
   "outputs": [],
   "source": [
    "# Your Solution"
   ]
  },
  {
   "cell_type": "markdown",
   "metadata": {
    "slideshow": {
     "slide_type": "slide"
    }
   },
   "source": [
    "# Sliders\n",
    "\n",
    "Apart from **click events**, visual tools like *dropdowns* and *sliders* are a great way to control and interact with data.  Sliders are a part of the `dash_core_components` package and easier to work with than what we just worked through with `clickData`.\n"
   ]
  },
  {
   "cell_type": "markdown",
   "metadata": {
    "slideshow": {
     "slide_type": "subslide"
    },
    "solution2": "hidden",
    "solution2_first": true
   },
   "source": [
    "## EXERCISE Bonus\n",
    "\n",
    "Now that we're working with the full temperature data again:\n",
    "\n",
    "- Make a dash app with one central figure (something from `px`) that displays a single year of `temperatures` data for all countries\n",
    "- Control which year is displayed using a slider (`dcc.Slider`)"
   ]
  },
  {
   "cell_type": "code",
   "execution_count": 22,
   "metadata": {
    "scrolled": false,
    "slideshow": {
     "slide_type": "-"
    },
    "solution2": "hidden"
   },
   "outputs": [],
   "source": [
    "# Solution\n",
    "app = dash.Dash(__name__, external_stylesheets=external_stylesheets)\n",
    "\n",
    "def single_year(year=1950):\n",
    "    df = temperatures[temperatures.year==year].groupby([\"Country\",\"year\",\"Continent\"]).mean().reset_index()\n",
    "    df.AverageTemperatureUncertainty.fillna(0,inplace=True)\n",
    "    return px.scatter(df, x=\"AverageTemperature\", y=\"AverageTemperatureUncertainty\", hover_name=\"Country\", color=\"Continent\", marginal_y=\"violin\",marginal_x=\"histogram\")\n",
    "\n",
    "app.layout = html.Div(children=[\n",
    "    html.H1(children='Global Temperatures'),\n",
    "\n",
    "    html.Div(children='''\n",
    "        Climate: A single year in the world\n",
    "    '''),\n",
    "\n",
    "    dcc.Graph(\n",
    "        id='year-graph',\n",
    "        figure=single_year()\n",
    "    ),\n",
    "    html.H1(\n",
    "        id='range-year',\n",
    "        children='1950'\n",
    "    ),\n",
    "    dcc.Slider(\n",
    "        id='temperature-year',\n",
    "        min=temperatures.year.min(),\n",
    "        max=temperatures.year.max(),\n",
    "        step=1,\n",
    "        value=1950,\n",
    "        marks={int(date):str(date) for date in temperatures.year.unique() if date%10==0}\n",
    "    )\n",
    "])\n",
    "\n",
    "@app.callback(\n",
    "    output=[\n",
    "        Output(component_id=\"year-graph\",component_property=\"figure\"),\n",
    "        Output(component_id=\"range-year\",component_property=\"children\")\n",
    "    ],\n",
    "    inputs=[\n",
    "        Input(component_id=\"temperature-year\", component_property=\"value\")\n",
    "    ]\n",
    ")\n",
    "def draw_country_history(year):\n",
    "    figure = single_year(year)\n",
    "    return figure, year\n",
    "\n",
    "#app.run_server(port=8000)\n",
    "debug(app)"
   ]
  },
  {
   "cell_type": "code",
   "execution_count": null,
   "metadata": {
    "slideshow": {
     "slide_type": "skip"
    }
   },
   "outputs": [],
   "source": [
    "# Your Solution"
   ]
  },
  {
   "cell_type": "markdown",
   "metadata": {
    "slideshow": {
     "slide_type": "slide"
    }
   },
   "source": [
    "# Dashboard Success."
   ]
  }
 ],
 "metadata": {
  "celltoolbar": "Slideshow",
  "kernelspec": {
   "display_name": "Python 3",
   "language": "python",
   "name": "python3"
  },
  "language_info": {
   "codemirror_mode": {
    "name": "ipython",
    "version": 3
   },
   "file_extension": ".py",
   "mimetype": "text/x-python",
   "name": "python",
   "nbconvert_exporter": "python",
   "pygments_lexer": "ipython3",
   "version": "3.7.5"
  }
 },
 "nbformat": 4,
 "nbformat_minor": 2
}
