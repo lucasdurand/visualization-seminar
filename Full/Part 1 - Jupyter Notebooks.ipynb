{
 "cells": [
  {
   "cell_type": "markdown",
   "metadata": {
    "slideshow": {
     "slide_type": "slide"
    }
   },
   "source": [
    "# Part 0: Jupyter Notebooks\n",
    "\n",
    "1. What are they?\n",
    "2. Why are they? \n",
    "2. How do they work?"
   ]
  },
  {
   "cell_type": "markdown",
   "metadata": {
    "slideshow": {
     "slide_type": "subslide"
    }
   },
   "source": [
    "# What are they?\n",
    "\n",
    "https://jupyter.org/\n",
    "- Web-based interface to combine Markdown, Code inputs, Outputs\n",
    "- Use Python (or other languages) outside of the terminal\n",
    "- This has grown in the scientific Python community into a larger ecosystem (including JupyterHub and Binder)"
   ]
  },
  {
   "cell_type": "markdown",
   "metadata": {
    "slideshow": {
     "slide_type": "subslide"
    }
   },
   "source": [
    "# Why are they?\n",
    "\n",
    "- Self-documenting workflows\n",
    "- Reproducible\n",
    "- With good Markdown/Outputs they ARE reports"
   ]
  },
  {
   "cell_type": "markdown",
   "metadata": {
    "slideshow": {
     "slide_type": "subslide"
    }
   },
   "source": [
    "# How do they work?\n",
    "\n",
    "- Enter code in *code* cells\n",
    "- Click `>Run` to execute a code cell\n",
    "    - You can also hit `Ctrl+Enter` to execute the current cell\n",
    "    - Or `Shift+Enter` to execute a cell and move down one\n",
    "- There are lots of keyboard shortcuts in the *Help* menu"
   ]
  },
  {
   "cell_type": "markdown",
   "metadata": {
    "slideshow": {
     "slide_type": "subslide"
    }
   },
   "source": [
    "# How do they work?\n",
    "\n",
    "- Enter Markdown in *markdown* cells\n",
    "\n",
    "## Markdown\n",
    "\n",
    "- A **shortform** for `HTML`, we can use \\*'s and \\_'s to quickly emphasize things \n",
    "- Bullets are also easy\n",
    "\n",
    "If there are 3 things to remember, it would be:\n",
    "\n",
    "1. Don't overthink it, just adding in some \\#'s and \\-'s looks pretty good\n",
    "1. This is how you make numbered lists\n",
    "6. The actual number out front doesn't matter"
   ]
  },
  {
   "cell_type": "markdown",
   "metadata": {
    "slideshow": {
     "slide_type": "slide"
    }
   },
   "source": [
    "# Is that it?\n",
    "\n",
    "Not really, there's lots of great features and extensions for Jupyter Notebooks that make them a great part of a Data Science workflow\n",
    "\n",
    "e.g. Jupyter RISE allows this to be a live code slideshow\n",
    "\n",
    "and --> *exercise* let's us do our exercises. Just enable this below (and refresh the page)!"
   ]
  },
  {
   "cell_type": "code",
   "execution_count": null,
   "metadata": {
    "slideshow": {
     "slide_type": "-"
    }
   },
   "outputs": [],
   "source": [
    "!jupyter contrib nbextension install --sys-prefix"
   ]
  },
  {
   "cell_type": "code",
   "execution_count": 1,
   "metadata": {
    "slideshow": {
     "slide_type": "-"
    }
   },
   "outputs": [
    {
     "name": "stderr",
     "output_type": "stream",
     "text": [
      "Enabling notebook extension exercise2/main...\n",
      "      - Validating: ok\n"
     ]
    }
   ],
   "source": [
    "!jupyter nbextension enable exercise2/main"
   ]
  },
  {
   "cell_type": "markdown",
   "metadata": {
    "slideshow": {
     "slide_type": "slide"
    },
    "solution2": "hidden",
    "solution2_first": true
   },
   "source": [
    "# EXERCISE"
   ]
  },
  {
   "cell_type": "code",
   "execution_count": 2,
   "metadata": {
    "solution2": "hidden"
   },
   "outputs": [],
   "source": [
    "# Hidden solution?"
   ]
  },
  {
   "cell_type": "code",
   "execution_count": 1,
   "metadata": {
    "slideshow": {
     "slide_type": "-"
    }
   },
   "outputs": [
    {
     "name": "stdout",
     "output_type": "stream",
     "text": [
      "2\n"
     ]
    }
   ],
   "source": [
    "# Your Solution\n",
    "\n",
    "a = 1\n",
    "print(a * 2)"
   ]
  }
 ],
 "metadata": {
  "celltoolbar": "Slideshow",
  "kernelspec": {
   "display_name": "Python 3",
   "language": "python",
   "name": "python3"
  },
  "language_info": {
   "codemirror_mode": {
    "name": "ipython",
    "version": 3
   },
   "file_extension": ".py",
   "mimetype": "text/x-python",
   "name": "python",
   "nbconvert_exporter": "python",
   "pygments_lexer": "ipython3",
   "version": "3.7.1"
  }
 },
 "nbformat": 4,
 "nbformat_minor": 2
}
