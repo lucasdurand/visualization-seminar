{
 "cells": [
  {
   "cell_type": "markdown",
   "metadata": {
    "slideshow": {
     "slide_type": "slide"
    }
   },
   "source": [
    "# Deploying a Dash App to Heroku\n",
    "\n",
    "Let's put our application out into the world! First it needs to be a `.py` file, so let's copy out what we need into a new file"
   ]
  },
  {
   "cell_type": "markdown",
   "metadata": {
    "slideshow": {
     "slide_type": "subslide"
    }
   },
   "source": [
    "## Heroku CLI\n",
    "\n",
    "Let's assume we already installed the *Heroku CLI*"
   ]
  },
  {
   "cell_type": "markdown",
   "metadata": {
    "slideshow": {
     "slide_type": "subslide"
    }
   },
   "source": [
    "## Login\n",
    "\n",
    "`heroku login`"
   ]
  },
  {
   "cell_type": "markdown",
   "metadata": {
    "slideshow": {
     "slide_type": "subslide"
    }
   },
   "source": [
    "## Heroku Definitions\n",
    "\n",
    "- Procfile\n",
    "- runtime.txt\n",
    "- requirements.txt (or Pipfile/Pipfile.lock)"
   ]
  },
  {
   "cell_type": "markdown",
   "metadata": {
    "slideshow": {
     "slide_type": "subslide"
    }
   },
   "source": [
    "## Git repo\n",
    "\n",
    "Heroku lives in a `git` repo. The very first time we use it, we need to initialize it:\n",
    "\n",
    "```\n",
    "git init # create empty repo\n",
    "```\n",
    "\n",
    "and create a new app in heroku:\n",
    "\n",
    "```\n",
    "heroku create my_unique_heroku_app_name\n",
    "```"
   ]
  },
  {
   "cell_type": "markdown",
   "metadata": {
    "slideshow": {
     "slide_type": "subslide"
    }
   },
   "source": [
    "## Now we can deploy the app\n",
    "\n",
    "Adding files to the `git` repo and pushing it to heroku will initiate a new build:\n",
    "\n",
    "\n",
    "```\n",
    "git add . # add all of these files\n",
    "\n",
    "git push heroku master --force # force pushing is bad, but it saves us from some errors\n",
    "```"
   ]
  },
  {
   "cell_type": "markdown",
   "metadata": {
    "slideshow": {
     "slide_type": "subslide"
    }
   },
   "source": [
    "## Check the logs\n",
    "\n",
    "`heroku logs --tail`"
   ]
  },
  {
   "cell_type": "markdown",
   "metadata": {
    "slideshow": {
     "slide_type": "subslide"
    }
   },
   "source": [
    "# View the app!\n",
    "\n",
    "`heroku open`"
   ]
  },
  {
   "cell_type": "markdown",
   "metadata": {
    "slideshow": {
     "slide_type": "slide"
    }
   },
   "source": [
    "# Exercise 3:\n",
    "\n",
    "Change the app title and redeploy it"
   ]
  },
  {
   "cell_type": "markdown",
   "metadata": {
    "slideshow": {
     "slide_type": "fragment"
    }
   },
   "source": [
    "### Hint\n",
    "\n",
    "You'll need this: \n",
    "\n",
    "```\n",
    "git add . # add all of these files\n",
    "\n",
    "git push heroku master --force # force pushing is bad, but it saves us from some errors\n",
    "```"
   ]
  }
 ],
 "metadata": {
  "celltoolbar": "Slideshow",
  "kernelspec": {
   "display_name": "Python 3",
   "language": "python",
   "name": "python3"
  },
  "language_info": {
   "codemirror_mode": {
    "name": "ipython",
    "version": 3
   },
   "file_extension": ".py",
   "mimetype": "text/x-python",
   "name": "python",
   "nbconvert_exporter": "python",
   "pygments_lexer": "ipython3",
   "version": "3.7.5"
  }
 },
 "nbformat": 4,
 "nbformat_minor": 2
}
